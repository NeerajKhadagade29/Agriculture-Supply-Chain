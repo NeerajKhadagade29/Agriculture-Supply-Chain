{
 "cells": [
  {
   "cell_type": "markdown",
   "metadata": {
    "colab_type": "text",
    "id": "OY6S_vfMAuds"
   },
   "source": [
    "# <center>Yield prediction of various farm processing units</center>\n",
    "---"
   ]
  },
  {
   "cell_type": "markdown",
   "metadata": {
    "colab_type": "text",
    "id": "cJtPT4KFBDeN"
   },
   "source": [
    "## Abstract\n",
    "\n",
    "> Supply chain management is an integral part of any business to maintain the transformation of raw materials to finished goods and services. It helps to maximize the customer value and gain advantage in the marketplace. For years, suppy chain management has helped businesses flourish and create a brand value in the marketplace. \n",
    "\n",
    "> Businesses have been implementing supply chain management with the help of tradtional, paper-based methods. With the help of _data science_, businesses have not only optimized this process and get better predictions, but also capture real-time decisions to significantly improve the stratergies and performance metrics.\n",
    "\n",
    "> Supply chain management produces benefits like enhanced strategies, lower operating costs, higher profits and increased collaborations. \n",
    "\n",
    "\n",
    "---\n",
    "\n"
   ]
  },
  {
   "cell_type": "markdown",
   "metadata": {
    "colab_type": "text",
    "id": "i3NZ2C33BzaS"
   },
   "source": [
    "## Introduction\n",
    "\n",
    "> This report outlines the findings of the `train_data`, `farm_data` and `train_weather` data analysis that has been performed as a part of the curriculum at **International School of Engineering (INSOFE)**, under the module **CSE 9099c_PHD (Project Hackathon and Defense (PHD)).**\n",
    "\n",
    "1. _Key Documents_\n",
    "  > The data received for the analysis is as follows:\n",
    "  1. `train_data.csv` : It consists information about the yield of each ingredient produced by each farm on a daily basis.\n",
    "  2. `farm_id.csv` : It consists of the description of each farm and the deidentified location.\n",
    "  3. `train_weather.csv` : It consists of the information of hourly weather conditions of each day for the year 2016. \n",
    "  \n",
    "2. _Methodology_\n",
    "\n",
    "  > Before starting the analysis, we have **merged** all the three dataframes using Python functions.  \n",
    "The graphs and plots present in this report are made using TABLEAU and Python's data visualization libraries. \n",
    "TABLEAU gives flexibility to visualize multiple plots at once and hence extract information from the user-friendly API.\n",
    "\n",
    "3. Breakdown of this notebook\n",
    "  > 1. Importing Libraries\n",
    "  2. Loading the dataset(s)\n",
    "  3. Data Cleaning:\n",
    "      - Deleting redundant columns.\n",
    "      - Remove/filling the NaN values from the datasets.\n",
    "      - \n",
    "  4. Merging the datasets\n",
    "  5. Exploratory data analysis and Data visualization\n",
    "  6. Regression Analysis:\n",
    "    1. Linear Regression\n",
    "    2. AdaBoost Regression\n",
    "    3. Catboost Regression\n",
    "    4. Artificial Neural Network"
   ]
  },
  {
   "cell_type": "markdown",
   "metadata": {
    "colab_type": "text",
    "id": "5ARoWgc7csNM"
   },
   "source": [
    "\n",
    "\n",
    "---\n",
    "\n"
   ]
  },
  {
   "cell_type": "markdown",
   "metadata": {},
   "source": [
    "<div class=\"alert alert-success\">\n",
    "<b>This report consists only model building. The visualization report is present in the reporsitory, or click on the link here:\n",
    "</b></div>\n",
    "\n",
    " https://github.com/NeerajKhadagade29/Agriculture-Supply-Chain/blob/master/data_visualization_report.ipynb"
   ]
  },
  {
   "cell_type": "markdown",
   "metadata": {
    "colab_type": "text",
    "id": "85LhDrNnc12N"
   },
   "source": [
    "# Model Building"
   ]
  },
  {
   "cell_type": "code",
   "execution_count": 3,
   "metadata": {
    "colab": {
     "base_uri": "https://localhost:8080/",
     "height": 71
    },
    "colab_type": "code",
    "id": "B7luoVBb5wjr",
    "outputId": "432d9f47-0050-4459-8e4b-31ab6471dfe7"
   },
   "outputs": [
    {
     "name": "stderr",
     "output_type": "stream",
     "text": [
      "/usr/local/lib/python3.6/dist-packages/numpy/lib/arraysetops.py:568: FutureWarning: elementwise comparison failed; returning scalar instead, but in the future will perform elementwise comparison\n",
      "  mask |= (ar1 == a)\n"
     ]
    }
   ],
   "source": [
    "# Importing the final, merged datasets for further model building\n",
    "# Parsing the dates in 'timestamp' format\n",
    "\n",
    "main_data = pd.read_csv('/content/drive/My Drive/Colab/model_train.csv', parse_dates = ['date'])\n",
    "main_test = pd.read_csv('/content/drive/My Drive/Colab/model_test.csv', parse_dates = ['date'], index_col = 'id')"
   ]
  },
  {
   "cell_type": "code",
   "execution_count": 0,
   "metadata": {
    "colab": {},
    "colab_type": "code",
    "id": "r5xcynitdYcw"
   },
   "outputs": [],
   "source": [
    "# Creating copies of the training and the testing dataframes\n",
    "\n",
    "data = main_data.copy()\n",
    "test = main_test.copy()"
   ]
  },
  {
   "cell_type": "markdown",
   "metadata": {
    "colab_type": "text",
    "id": "DZX1N1uRfOjI"
   },
   "source": [
    "Since we have the feature `date` in the dataframes, we will extract the `month`, `day` and `hour` components for our model buidling."
   ]
  },
  {
   "cell_type": "code",
   "execution_count": 0,
   "metadata": {
    "colab": {},
    "colab_type": "code",
    "id": "ckMhrc68HH7R"
   },
   "outputs": [],
   "source": [
    "# Pandas faciliates us to extract the date components using '.dt.month/day/hour`\n",
    "\n",
    "for df in [data, test]:\n",
    "    df['month'] = pd.to_datetime(df['date']).dt.month\n",
    "    df['day'] = pd.to_datetime(df['date']).dt.day\n",
    "    df['hour'] = pd.to_datetime(df['date']).dt.hour"
   ]
  },
  {
   "cell_type": "markdown",
   "metadata": {
    "colab_type": "text",
    "id": "NpqM8a_sgofw"
   },
   "source": [
    "We shall be dropping few features from the dataframes for the reasons(s):\n",
    " 1. `date` : The datetime components have been extracted. Hence, we can drop this feature.\n",
    " 2. `dew_temp` : This feature has about **80 %** correlation with `temp_obs`. We have dropped in order to avoid problem of multicollinearity.\n",
    " 3. `farming_company` : This feature has many 16 catergories. To reduce the categorical features, we have dropped this feature.\n",
    " 4. `deidentified_location` : This columns was used to merge the dataframes and extract the weather information of each farm. Hence, we can now drop it.\n",
    " "
   ]
  },
  {
   "cell_type": "code",
   "execution_count": 0,
   "metadata": {
    "colab": {},
    "colab_type": "code",
    "id": "cXhqJ09QrsAx"
   },
   "outputs": [],
   "source": [
    "# Dropping the features using '.drop()`\n",
    "\n",
    "for df in [data, test]:\n",
    "    df = df.drop(['date','dew_temp','farming_company','deidentified_location'], axis = 1)"
   ]
  },
  {
   "cell_type": "markdown",
   "metadata": {
    "colab_type": "text",
    "id": "WVx9DqFrnHH8"
   },
   "source": [
    "#### Separating the categorical features for preprocessing"
   ]
  },
  {
   "cell_type": "code",
   "execution_count": 0,
   "metadata": {
    "colab": {},
    "colab_type": "code",
    "id": "iGLd-NfS7WnC"
   },
   "outputs": [],
   "source": [
    "# List of categorical features\n",
    "\n",
    "cat_cols = ['farm_id','ingredient_type','month', 'day', 'hour']\n",
    "\n",
    "# Converting the data type of the categorical features in the dataframes\n",
    "for df in [data, test]:\n",
    "    df[cat_cols] = df[cat_cols].astype('category')"
   ]
  },
  {
   "cell_type": "markdown",
   "metadata": {
    "colab_type": "text",
    "id": "Atxmevg7nQav"
   },
   "source": [
    "#### Separting the dependent and independent feature(s)\n",
    "\n",
    "For building and training the model, we use only the traning data (`data`). The main predictions would be performed on the `test` dataset."
   ]
  },
  {
   "cell_type": "code",
   "execution_count": 0,
   "metadata": {
    "colab": {},
    "colab_type": "code",
    "id": "Qbn88vAkTrzm"
   },
   "outputs": [],
   "source": [
    "# Dependent features\n",
    "X = data.drop('yield', axis = 1)\n",
    "\n",
    "# Target variable\n",
    "y = data['yield']"
   ]
  },
  {
   "cell_type": "markdown",
   "metadata": {
    "colab_type": "text",
    "id": "oOYA-2K8n3zK"
   },
   "source": [
    "#### Train-Validation Split"
   ]
  },
  {
   "cell_type": "code",
   "execution_count": 0,
   "metadata": {
    "colab": {},
    "colab_type": "code",
    "id": "3-xEBLI88rOo"
   },
   "outputs": [],
   "source": [
    "# Importing the function from the sklearn library\n",
    "from sklearn.model_selection import train_test_split\n",
    "\n",
    "# Splitting into 70:30 train:validation ratio\n",
    "X_train, X_valid, y_train, y_valid = train_test_split(X, y, test_size = 0.3, random_state = 1234)"
   ]
  },
  {
   "cell_type": "markdown",
   "metadata": {
    "colab_type": "text",
    "id": "fsqo_6LZoSkg"
   },
   "source": [
    "#### Dummification of the categorical features"
   ]
  },
  {
   "cell_type": "code",
   "execution_count": 0,
   "metadata": {
    "colab": {},
    "colab_type": "code",
    "id": "P-4F9zOeh-4N"
   },
   "outputs": [],
   "source": [
    "# Importing the OneHotEncoder fucntion from the sklearn library\n",
    "from sklearn.preprocessing import OneHotEncoder\n",
    "\n",
    "ohe = OneHotEncoder(handle_unknown = 'ignore')\n",
    "X_train = ohe.fit_transform(X_train[cat_cols])\n",
    "X_valid = ohe.transform(X_valid[cat_cols])\n",
    "test = ohe.transform(test[cat_cols])"
   ]
  },
  {
   "cell_type": "markdown",
   "metadata": {
    "colab_type": "text",
    "id": "uayYvGyDx1A7"
   },
   "source": [
    "These are the following models that have been built:\n",
    " 1. Linear Regression\n",
    " 2. AdaBoost Regression\n",
    " 3. Catboost Regression\n",
    " 4. Artificial Neural Network\n"
   ]
  },
  {
   "cell_type": "markdown",
   "metadata": {
    "colab_type": "text",
    "id": "WF4Xtnq9yucr"
   },
   "source": [
    "# 1. Linear Regression"
   ]
  },
  {
   "cell_type": "code",
   "execution_count": 0,
   "metadata": {
    "colab": {},
    "colab_type": "code",
    "id": "89ovHnWtylzv"
   },
   "outputs": [],
   "source": [
    "from sklearn.linear_model import LinearRegression\n",
    "from sklearn.metrics import mean_absolute_error,mean_squared_error"
   ]
  },
  {
   "cell_type": "code",
   "execution_count": 0,
   "metadata": {
    "colab": {},
    "colab_type": "code",
    "id": "u7HKv5KoyZ9B"
   },
   "outputs": [],
   "source": [
    "lr = LinearRegression()\n",
    "lr.fit(X_train, y_train)\n",
    "pred_train_lr = lr.predict(X_train) \n",
    "pred_valid_lr = lr.predict(X_valid)\n"
   ]
  },
  {
   "cell_type": "code",
   "execution_count": 0,
   "metadata": {
    "colab": {},
    "colab_type": "code",
    "id": "NWpe5IBv0_Ta"
   },
   "outputs": [],
   "source": [
    "LRRMSE_train = np.sqrt(mean_squared_error(y_true = y_train, y_pred = pred_train_lr))\n",
    "LRRMSE_valid = np.sqrt(mean_squared_error(y_true = y_valid, y_pred = pred_valid_lr))\n",
    "LRScores = [LRRMSE_train, LRRMSE_valid]\n",
    "\n",
    "LR = pd.DataFrame(LRScores, index=['Train RMSE', 'Validation RMSE'],\n",
    "                  columns = ['Linear Regression'])\n",
    "\n",
    "LR = LR.T"
   ]
  },
  {
   "cell_type": "markdown",
   "metadata": {
    "colab_type": "text",
    "id": "J6Asg58JpepJ"
   },
   "source": [
    "# 2. AdaBoost Regression"
   ]
  },
  {
   "cell_type": "code",
   "execution_count": 0,
   "metadata": {
    "colab": {},
    "colab_type": "code",
    "id": "SCNj4yKE9iE-"
   },
   "outputs": [],
   "source": [
    "from sklearn.ensemble import AdaBoostRegressor"
   ]
  },
  {
   "cell_type": "code",
   "execution_count": 0,
   "metadata": {
    "colab": {},
    "colab_type": "code",
    "id": "ifR4Rh689jBQ"
   },
   "outputs": [],
   "source": [
    "adr = AdaBoostRegressor()\n",
    "adr.fit(X_train, y_train)\n",
    "pred_train_adr = adr.predict(X_train)\n",
    "pred_valid_adr = adr.predict(X_valid)\n"
   ]
  },
  {
   "cell_type": "code",
   "execution_count": 0,
   "metadata": {
    "colab": {},
    "colab_type": "code",
    "id": "RVJdm8S89mhG"
   },
   "outputs": [],
   "source": [
    "ADRRMSE_train = np.sqrt(mean_squared_error(y_true = y_train, y_pred = pred_train_adr))\n",
    "ADRRMSE_valid = np.sqrt(mean_squared_error(y_true = y_valid, y_pred = pred_valid_adr))\n",
    "ADRRScores = [ADRRMSE_train, ADRRMSE_valid]\n",
    "\n",
    "ADR = pd.DataFrame(ADRRScores, index=['Train RMSE', 'Validation RMSE'],\n",
    "                  columns = ['AdaBoost Regression'])\n",
    "\n",
    "AD = ADR.T"
   ]
  },
  {
   "cell_type": "markdown",
   "metadata": {
    "colab_type": "text",
    "id": "fghFPguY_T6y"
   },
   "source": [
    "adr_model = pd.DataFrame([ADRScores_SC, ADRScores], columns = ['MSE', 'MAE'], \n",
    "                         index = ['AdB','AdB Train'])\n",
    "adr_model['RMSE'] = adr_model['MSE'].apply(lambda x: x**(1/2))\n",
    "adr_model"
   ]
  },
  {
   "cell_type": "markdown",
   "metadata": {
    "colab_type": "text",
    "id": "j9a4SHHD-A0m"
   },
   "source": [
    "___"
   ]
  },
  {
   "cell_type": "markdown",
   "metadata": {
    "colab_type": "text",
    "id": "3EipS-8vpkvJ"
   },
   "source": [
    "# 3. CatBoost Regression"
   ]
  },
  {
   "cell_type": "code",
   "execution_count": 0,
   "metadata": {
    "colab": {},
    "colab_type": "code",
    "id": "bQPC_A8C-ChF"
   },
   "outputs": [],
   "source": [
    "# pip install catboost"
   ]
  },
  {
   "cell_type": "code",
   "execution_count": 0,
   "metadata": {
    "colab": {},
    "colab_type": "code",
    "id": "DHOTUDKB-EjL"
   },
   "outputs": [],
   "source": [
    "from catboost import CatBoostRegressor"
   ]
  },
  {
   "cell_type": "code",
   "execution_count": 0,
   "metadata": {
    "colab": {},
    "colab_type": "code",
    "id": "OHBIDAcT-KMK"
   },
   "outputs": [],
   "source": [
    "cat = CatBoostRegressor()\n",
    "cat.fit(X_train, y_train)\n",
    "pred_train_cat = cat.predict(X_train)\n",
    "pred_test_cat = cat.predict(X_valid)\n"
   ]
  },
  {
   "cell_type": "code",
   "execution_count": 0,
   "metadata": {
    "colab": {},
    "colab_type": "code",
    "id": "2uLq9wPO-RhO"
   },
   "outputs": [],
   "source": [
    "CATRMSE_train = np.sqrt(mean_squared_error(y_true = y_train, y_pred = pred_train_cat))\n",
    "CATRMSE_valid = np.sqrt(mean_squared_error(y_true = y_valid, y_pred = pred_test_cat))\n",
    "CATScores = [CATRMSE_train, CATRMSE_valid]\n",
    "\n",
    "CAT = pd.DataFrame(CATScores, index=['Train RMSE', 'Validation RMSE'],\n",
    "                  columns = ['CatBoost Regression'])\n",
    "\n",
    "CAT = CAT.T"
   ]
  },
  {
   "cell_type": "markdown",
   "metadata": {
    "colab_type": "text",
    "id": "Oo936M8KqofM"
   },
   "source": [
    "___"
   ]
  },
  {
   "cell_type": "markdown",
   "metadata": {
    "colab_type": "text",
    "id": "Ev-LpSmOpuSO"
   },
   "source": [
    "# 3. Artificial Neural Network, for Regression"
   ]
  },
  {
   "cell_type": "code",
   "execution_count": 28,
   "metadata": {
    "colab": {
     "base_uri": "https://localhost:8080/",
     "height": 80
    },
    "colab_type": "code",
    "id": "IGe6CVEZYyk4",
    "outputId": "b5cc1ef0-0be0-4d07-ce00-7a5efbb01f9d"
   },
   "outputs": [
    {
     "name": "stderr",
     "output_type": "stream",
     "text": [
      "Using TensorFlow backend.\n"
     ]
    },
    {
     "data": {
      "text/html": [
       "<p style=\"color: red;\">\n",
       "The default version of TensorFlow in Colab will soon switch to TensorFlow 2.x.<br>\n",
       "We recommend you <a href=\"https://www.tensorflow.org/guide/migrate\" target=\"_blank\">upgrade</a> now \n",
       "or ensure your notebook will continue to use TensorFlow 1.x via the <code>%tensorflow_version 1.x</code> magic:\n",
       "<a href=\"https://colab.research.google.com/notebooks/tensorflow_version.ipynb\" target=\"_blank\">more info</a>.</p>\n"
      ],
      "text/plain": [
       "<IPython.core.display.HTML object>"
      ]
     },
     "metadata": {
      "tags": []
     },
     "output_type": "display_data"
    }
   ],
   "source": [
    "from keras.models import Sequential\n",
    "from keras.layers import Dense, Dropout"
   ]
  },
  {
   "cell_type": "code",
   "execution_count": 29,
   "metadata": {
    "colab": {
     "base_uri": "https://localhost:8080/",
     "height": 258
    },
    "colab_type": "code",
    "id": "b4xzVNQig7BK",
    "outputId": "7b77475a-43ea-4904-c4d1-78443beb6d82"
   },
   "outputs": [
    {
     "name": "stdout",
     "output_type": "stream",
     "text": [
      "WARNING:tensorflow:From /usr/local/lib/python3.6/dist-packages/keras/backend/tensorflow_backend.py:66: The name tf.get_default_graph is deprecated. Please use tf.compat.v1.get_default_graph instead.\n",
      "\n",
      "WARNING:tensorflow:From /usr/local/lib/python3.6/dist-packages/keras/backend/tensorflow_backend.py:541: The name tf.placeholder is deprecated. Please use tf.compat.v1.placeholder instead.\n",
      "\n",
      "WARNING:tensorflow:From /usr/local/lib/python3.6/dist-packages/keras/backend/tensorflow_backend.py:4479: The name tf.truncated_normal is deprecated. Please use tf.random.truncated_normal instead.\n",
      "\n",
      "WARNING:tensorflow:From /usr/local/lib/python3.6/dist-packages/keras/backend/tensorflow_backend.py:148: The name tf.placeholder_with_default is deprecated. Please use tf.compat.v1.placeholder_with_default instead.\n",
      "\n",
      "WARNING:tensorflow:From /usr/local/lib/python3.6/dist-packages/keras/backend/tensorflow_backend.py:3733: calling dropout (from tensorflow.python.ops.nn_ops) with keep_prob is deprecated and will be removed in a future version.\n",
      "Instructions for updating:\n",
      "Please use `rate` instead of `keep_prob`. Rate should be set to `rate = 1 - keep_prob`.\n",
      "WARNING:tensorflow:From /usr/local/lib/python3.6/dist-packages/keras/backend/tensorflow_backend.py:4432: The name tf.random_uniform is deprecated. Please use tf.random.uniform instead.\n",
      "\n"
     ]
    }
   ],
   "source": [
    "model = Sequential()\n",
    "\n",
    "model.add(Dense(units=128, input_dim = X_train.shape[1], activation = 'relu', kernel_initializer='glorot_normal'))\n",
    "model.add(Dropout(0.5))\n",
    "model.add(Dense(units=64, activation = 'relu'))\n",
    "model.add(Dropout(0.32))\n",
    "model.add(Dense(units=64, activation = 'relu'))\n",
    "\n",
    "# Output Layer\n",
    "model.add(Dense(units=1, activation = 'linear'))"
   ]
  },
  {
   "cell_type": "code",
   "execution_count": 30,
   "metadata": {
    "colab": {
     "base_uri": "https://localhost:8080/",
     "height": 357
    },
    "colab_type": "code",
    "id": "WYVsjMRDjjCY",
    "outputId": "a2f34374-cd63-4b3b-b6b5-cde17cfcd86b"
   },
   "outputs": [
    {
     "name": "stdout",
     "output_type": "stream",
     "text": [
      "Model: \"sequential_1\"\n",
      "_________________________________________________________________\n",
      "Layer (type)                 Output Shape              Param #   \n",
      "=================================================================\n",
      "dense_1 (Dense)              (None, 128)               192768    \n",
      "_________________________________________________________________\n",
      "dropout_1 (Dropout)          (None, 128)               0         \n",
      "_________________________________________________________________\n",
      "dense_2 (Dense)              (None, 64)                8256      \n",
      "_________________________________________________________________\n",
      "dropout_2 (Dropout)          (None, 64)                0         \n",
      "_________________________________________________________________\n",
      "dense_3 (Dense)              (None, 64)                4160      \n",
      "_________________________________________________________________\n",
      "dense_4 (Dense)              (None, 1)                 65        \n",
      "=================================================================\n",
      "Total params: 205,249\n",
      "Trainable params: 205,249\n",
      "Non-trainable params: 0\n",
      "_________________________________________________________________\n"
     ]
    }
   ],
   "source": [
    "model.summary()"
   ]
  },
  {
   "cell_type": "code",
   "execution_count": 0,
   "metadata": {
    "colab": {},
    "colab_type": "code",
    "id": "zg1VImiqjzvL"
   },
   "outputs": [],
   "source": [
    "model.compile(loss = 'mean_squared_error', optimizer = 'adam', metrics = ['mse'])"
   ]
  },
  {
   "cell_type": "code",
   "execution_count": 34,
   "metadata": {
    "colab": {
     "base_uri": "https://localhost:8080/",
     "height": 479
    },
    "colab_type": "code",
    "id": "MtwIPA2ZkKJO",
    "outputId": "b1388cb3-d1f4-4a1e-ed0e-fe2d4f5bffa5"
   },
   "outputs": [
    {
     "name": "stdout",
     "output_type": "stream",
     "text": [
      "WARNING:tensorflow:From /usr/local/lib/python3.6/dist-packages/keras/backend/tensorflow_backend.py:1033: The name tf.assign_add is deprecated. Please use tf.compat.v1.assign_add instead.\n",
      "\n",
      "WARNING:tensorflow:From /usr/local/lib/python3.6/dist-packages/keras/backend/tensorflow_backend.py:1020: The name tf.assign is deprecated. Please use tf.compat.v1.assign instead.\n",
      "\n",
      "WARNING:tensorflow:From /usr/local/lib/python3.6/dist-packages/keras/backend/tensorflow_backend.py:3005: The name tf.Session is deprecated. Please use tf.compat.v1.Session instead.\n",
      "\n",
      "Epoch 1/5\n",
      "WARNING:tensorflow:From /usr/local/lib/python3.6/dist-packages/keras/backend/tensorflow_backend.py:190: The name tf.get_default_session is deprecated. Please use tf.compat.v1.get_default_session instead.\n",
      "\n",
      "WARNING:tensorflow:From /usr/local/lib/python3.6/dist-packages/keras/backend/tensorflow_backend.py:197: The name tf.ConfigProto is deprecated. Please use tf.compat.v1.ConfigProto instead.\n",
      "\n",
      "WARNING:tensorflow:From /usr/local/lib/python3.6/dist-packages/keras/backend/tensorflow_backend.py:207: The name tf.global_variables is deprecated. Please use tf.compat.v1.global_variables instead.\n",
      "\n",
      "WARNING:tensorflow:From /usr/local/lib/python3.6/dist-packages/keras/backend/tensorflow_backend.py:216: The name tf.is_variable_initialized is deprecated. Please use tf.compat.v1.is_variable_initialized instead.\n",
      "\n",
      "WARNING:tensorflow:From /usr/local/lib/python3.6/dist-packages/keras/backend/tensorflow_backend.py:223: The name tf.variables_initializer is deprecated. Please use tf.compat.v1.variables_initializer instead.\n",
      "\n",
      "14358072/14358072 [==============================] - 913s 64us/step - loss: 12255970006.8509 - mean_squared_error: 12255970006.8509\n",
      "Epoch 2/5\n",
      "14358072/14358072 [==============================] - 885s 62us/step - loss: 6944553457.5514 - mean_squared_error: 6944553457.5514\n",
      "Epoch 3/5\n",
      "14358072/14358072 [==============================] - 892s 62us/step - loss: 6703819470.1446 - mean_squared_error: 6703819470.1446\n",
      "Epoch 4/5\n",
      "14358072/14358072 [==============================] - 892s 62us/step - loss: 6712664204.8153 - mean_squared_error: 6712664204.8153\n",
      "Epoch 5/5\n",
      "14358072/14358072 [==============================] - 889s 62us/step - loss: 6530610984.0429 - mean_squared_error: 6530610984.0429\n"
     ]
    }
   ],
   "source": [
    "model_history = model.fit(X_train, y_train,batch_size = 500, epochs = 5)"
   ]
  },
  {
   "cell_type": "code",
   "execution_count": 0,
   "metadata": {
    "colab": {},
    "colab_type": "code",
    "id": "bw19A5F7OU0F"
   },
   "outputs": [],
   "source": [
    "train = model.evaluate(X_train, y_train, batch_size=1024, verbose=2)"
   ]
  },
  {
   "cell_type": "code",
   "execution_count": 0,
   "metadata": {
    "colab": {},
    "colab_type": "code",
    "id": "_UN2YkdeRtZg"
   },
   "outputs": [],
   "source": [
    "validation = model.evaluate(X_valid, y_valid, batch_size=1024, verbose=2)"
   ]
  },
  {
   "cell_type": "code",
   "execution_count": 0,
   "metadata": {
    "colab": {},
    "colab_type": "code",
    "id": "L4D3YdVISMHn"
   },
   "outputs": [],
   "source": [
    "ANNScores = [np.sqrt(train[1]), np.sqrt(validation[1])]"
   ]
  },
  {
   "cell_type": "code",
   "execution_count": 0,
   "metadata": {
    "colab": {},
    "colab_type": "code",
    "id": "3v8jI5jpSGuF"
   },
   "outputs": [],
   "source": [
    "ANN = pd.DataFrame(ANNScores, index=['Train RMSE', 'Validation RMSE'],\n",
    "                  columns = ['ANN Regression'])\n",
    "\n",
    "ANN = ANN.T"
   ]
  },
  {
   "cell_type": "markdown",
   "metadata": {
    "colab_type": "text",
    "id": "OeqiE33A3Ypu"
   },
   "source": [
    "___"
   ]
  },
  {
   "cell_type": "markdown",
   "metadata": {
    "colab_type": "text",
    "id": "imbMg91Rp9oR"
   },
   "source": [
    "#### Comparing the score of the regression models"
   ]
  },
  {
   "cell_type": "code",
   "execution_count": 0,
   "metadata": {
    "colab": {},
    "colab_type": "code",
    "id": "iLpjMI3knyBQ"
   },
   "outputs": [],
   "source": [
    "scores = pd.concat([LR, AD, CAT, ANN])"
   ]
  },
  {
   "cell_type": "code",
   "execution_count": 68,
   "metadata": {
    "colab": {
     "base_uri": "https://localhost:8080/",
     "height": 173
    },
    "colab_type": "code",
    "id": "z7P5sxcXn8lc",
    "outputId": "66ead6f2-8e31-4918-e4d4-bb320fcebb7e"
   },
   "outputs": [
    {
     "data": {
      "text/html": [
       "<div>\n",
       "<style scoped>\n",
       "    .dataframe tbody tr th:only-of-type {\n",
       "        vertical-align: middle;\n",
       "    }\n",
       "\n",
       "    .dataframe tbody tr th {\n",
       "        vertical-align: top;\n",
       "    }\n",
       "\n",
       "    .dataframe thead th {\n",
       "        text-align: right;\n",
       "    }\n",
       "</style>\n",
       "<table border=\"1\" class=\"dataframe\">\n",
       "  <thead>\n",
       "    <tr style=\"text-align: right;\">\n",
       "      <th></th>\n",
       "      <th>Train RMSE</th>\n",
       "      <th>Validation RMSE</th>\n",
       "    </tr>\n",
       "  </thead>\n",
       "  <tbody>\n",
       "    <tr>\n",
       "      <th>Linear Regression</th>\n",
       "      <td>142354.970298</td>\n",
       "      <td>139382.707990</td>\n",
       "    </tr>\n",
       "    <tr>\n",
       "      <th>AdaBoost Regression</th>\n",
       "      <td>112118.126792</td>\n",
       "      <td>110543.079157</td>\n",
       "    </tr>\n",
       "    <tr>\n",
       "      <th>CatBoost Regression</th>\n",
       "      <td>62995.204799</td>\n",
       "      <td>62608.002262</td>\n",
       "    </tr>\n",
       "    <tr>\n",
       "      <th>ANN Regression</th>\n",
       "      <td>78436.930646</td>\n",
       "      <td>80541.278232</td>\n",
       "    </tr>\n",
       "  </tbody>\n",
       "</table>\n",
       "</div>"
      ],
      "text/plain": [
       "                        Train RMSE  Validation RMSE\n",
       "Linear Regression    142354.970298    139382.707990\n",
       "AdaBoost Regression  112118.126792    110543.079157\n",
       "CatBoost Regression   62995.204799     62608.002262\n",
       "ANN Regression        78436.930646     80541.278232"
      ]
     },
     "execution_count": 68,
     "metadata": {
      "tags": []
     },
     "output_type": "execute_result"
    }
   ],
   "source": [
    "scores.to_csv()"
   ]
  },
  {
   "cell_type": "markdown",
   "metadata": {
    "colab_type": "text",
    "id": "7k5nTDAeqCvU"
   },
   "source": [
    "As we see in the above statistics, **CatBoost Regression** gives the optimal performance metrics. \n",
    "\n",
    "Hence, we will predict the `yield` of the `test_data` using **CatBoost Regressor**."
   ]
  },
  {
   "cell_type": "markdown",
   "metadata": {
    "colab_type": "text",
    "id": "PBcYXro19e9R"
   },
   "source": [
    "___"
   ]
  },
  {
   "cell_type": "markdown",
   "metadata": {
    "colab_type": "text",
    "id": "R861busB1QfM"
   },
   "source": [
    "#### Predicting the `test_data` using **CatBoost Regressor**"
   ]
  },
  {
   "cell_type": "code",
   "execution_count": 0,
   "metadata": {
    "colab": {},
    "colab_type": "code",
    "id": "yNq_xIiGpO3x"
   },
   "outputs": [],
   "source": [
    "# Storing the predictions in 'cat_test'\n",
    "cat_test = cat.predict(test)"
   ]
  },
  {
   "cell_type": "code",
   "execution_count": 73,
   "metadata": {
    "colab": {
     "base_uri": "https://localhost:8080/",
     "height": 204
    },
    "colab_type": "code",
    "id": "_IvUvW8Pqiya",
    "outputId": "90ae370f-b229-4a2b-8b57-ad1dd82d1d39"
   },
   "outputs": [
    {
     "data": {
      "text/html": [
       "<div>\n",
       "<style scoped>\n",
       "    .dataframe tbody tr th:only-of-type {\n",
       "        vertical-align: middle;\n",
       "    }\n",
       "\n",
       "    .dataframe tbody tr th {\n",
       "        vertical-align: top;\n",
       "    }\n",
       "\n",
       "    .dataframe thead th {\n",
       "        text-align: right;\n",
       "    }\n",
       "</style>\n",
       "<table border=\"1\" class=\"dataframe\">\n",
       "  <thead>\n",
       "    <tr style=\"text-align: right;\">\n",
       "      <th></th>\n",
       "      <th>yield</th>\n",
       "    </tr>\n",
       "  </thead>\n",
       "  <tbody>\n",
       "    <tr>\n",
       "      <th>0</th>\n",
       "      <td>93.255768</td>\n",
       "    </tr>\n",
       "    <tr>\n",
       "      <th>1</th>\n",
       "      <td>93.255768</td>\n",
       "    </tr>\n",
       "    <tr>\n",
       "      <th>2</th>\n",
       "      <td>93.255768</td>\n",
       "    </tr>\n",
       "    <tr>\n",
       "      <th>3</th>\n",
       "      <td>93.255768</td>\n",
       "    </tr>\n",
       "    <tr>\n",
       "      <th>4</th>\n",
       "      <td>93.255768</td>\n",
       "    </tr>\n",
       "  </tbody>\n",
       "</table>\n",
       "</div>"
      ],
      "text/plain": [
       "       yield\n",
       "0  93.255768\n",
       "1  93.255768\n",
       "2  93.255768\n",
       "3  93.255768\n",
       "4  93.255768"
      ]
     },
     "execution_count": 73,
     "metadata": {
      "tags": []
     },
     "output_type": "execute_result"
    }
   ],
   "source": [
    "# Converting the 'cat_test' from array to dataframe named 'cat_pred'\n",
    "cat_pred = pd.DataFrame(cat_test, columns = ['yield'])\n",
    "cat_pred.head()"
   ]
  },
  {
   "cell_type": "markdown",
   "metadata": {
    "colab_type": "text",
    "id": "Wj6CiytH2tFu"
   },
   "source": [
    "### Creating a sourcing strategy for `ing_w`.\n",
    "\n",
    "Steps :\n",
    "\n",
    " 1. Extract the `id` column from the `main_test` and merging it with `cat_pred`.\n",
    " 2. Creating a new dataframe (`df`) that consists only the `date` and `ingredient_type` from the `main_test` and resetting the index to `id`.\n",
    " 3. Merging `cat_pred` and `df` on column **`id`**.\n",
    " 4. To extract the monthly yield of ingredient `ing_w`, we follow the following steps:\n",
    "   - Extract the 'MONTH' component from column `date`\n",
    "   - Selecting the only the ingredient `ing_w`\n",
    "   - Grouping the dataframe with respect to MONTH and transform the dataframe using `.sum()`"
   ]
  },
  {
   "cell_type": "code",
   "execution_count": 0,
   "metadata": {
    "colab": {},
    "colab_type": "code",
    "id": "HdLKa8_owJdJ"
   },
   "outputs": [],
   "source": [
    "# Extracting the 'yield id' from the index of `main_test`\n",
    "col_id = main_test.index"
   ]
  },
  {
   "cell_type": "code",
   "execution_count": 0,
   "metadata": {
    "colab": {},
    "colab_type": "code",
    "id": "pLtH0CUwwahn"
   },
   "outputs": [],
   "source": [
    "# Inserting the 'yield id' into the cat_pred dataframe and naming it to 'id\n",
    "cat_pred.insert(loc = 0, column = 'id', value = col_id)\n"
   ]
  },
  {
   "cell_type": "code",
   "execution_count": 0,
   "metadata": {
    "colab": {},
    "colab_type": "code",
    "id": "ZbdaK_FpygPT"
   },
   "outputs": [],
   "source": [
    "# Creating a dataframe that consists only 'date' and 'ingredient_type' from the 'main_test'\n",
    "df =  main_test[['date', 'ingredient_type']]\n",
    "\n",
    "# Resetting the index to the 'id' column\n",
    "df.reset_index(inplace=True)"
   ]
  },
  {
   "cell_type": "code",
   "execution_count": 0,
   "metadata": {
    "colab": {},
    "colab_type": "code",
    "id": "QG31TnlIwpft"
   },
   "outputs": [],
   "source": [
    "# Merging the 'cat_pred' and 'df' on 'id'\n",
    "df_main = pd.merge(df, cat_pred, on = ['id'])\n",
    "\n",
    "# Dropping the column 'id' that was used for merging purpose only\n",
    "df_main.drop('id', axis = 1, inplace = True)"
   ]
  },
  {
   "cell_type": "code",
   "execution_count": 78,
   "metadata": {
    "colab": {
     "base_uri": "https://localhost:8080/",
     "height": 204
    },
    "colab_type": "code",
    "id": "lmBI0Dry0SS7",
    "outputId": "e67bb6b9-b519-4292-d663-d24fe59ec6e4"
   },
   "outputs": [
    {
     "data": {
      "text/html": [
       "<div>\n",
       "<style scoped>\n",
       "    .dataframe tbody tr th:only-of-type {\n",
       "        vertical-align: middle;\n",
       "    }\n",
       "\n",
       "    .dataframe tbody tr th {\n",
       "        vertical-align: top;\n",
       "    }\n",
       "\n",
       "    .dataframe thead th {\n",
       "        text-align: right;\n",
       "    }\n",
       "</style>\n",
       "<table border=\"1\" class=\"dataframe\">\n",
       "  <thead>\n",
       "    <tr style=\"text-align: right;\">\n",
       "      <th></th>\n",
       "      <th>date</th>\n",
       "      <th>ingredient_type</th>\n",
       "      <th>yield</th>\n",
       "    </tr>\n",
       "  </thead>\n",
       "  <tbody>\n",
       "    <tr>\n",
       "      <th>0</th>\n",
       "      <td>2017-01-01</td>\n",
       "      <td>ing_w</td>\n",
       "      <td>93.255768</td>\n",
       "    </tr>\n",
       "    <tr>\n",
       "      <th>1</th>\n",
       "      <td>2017-01-01</td>\n",
       "      <td>ing_w</td>\n",
       "      <td>93.255768</td>\n",
       "    </tr>\n",
       "    <tr>\n",
       "      <th>2</th>\n",
       "      <td>2017-01-01</td>\n",
       "      <td>ing_w</td>\n",
       "      <td>93.255768</td>\n",
       "    </tr>\n",
       "    <tr>\n",
       "      <th>3</th>\n",
       "      <td>2017-01-01</td>\n",
       "      <td>ing_w</td>\n",
       "      <td>93.255768</td>\n",
       "    </tr>\n",
       "    <tr>\n",
       "      <th>4</th>\n",
       "      <td>2017-01-01</td>\n",
       "      <td>ing_w</td>\n",
       "      <td>93.255768</td>\n",
       "    </tr>\n",
       "  </tbody>\n",
       "</table>\n",
       "</div>"
      ],
      "text/plain": [
       "        date ingredient_type      yield\n",
       "0 2017-01-01           ing_w  93.255768\n",
       "1 2017-01-01           ing_w  93.255768\n",
       "2 2017-01-01           ing_w  93.255768\n",
       "3 2017-01-01           ing_w  93.255768\n",
       "4 2017-01-01           ing_w  93.255768"
      ]
     },
     "execution_count": 78,
     "metadata": {
      "tags": []
     },
     "output_type": "execute_result"
    }
   ],
   "source": [
    "df_main.head()"
   ]
  },
  {
   "cell_type": "code",
   "execution_count": 0,
   "metadata": {
    "colab": {},
    "colab_type": "code",
    "id": "HLhMbDID0X5b"
   },
   "outputs": [],
   "source": [
    "df_main['month'] = pd.to_datetime(df_main['date']).dt.month"
   ]
  },
  {
   "cell_type": "code",
   "execution_count": 0,
   "metadata": {
    "colab": {},
    "colab_type": "code",
    "id": "NcJVkq9y6VCf"
   },
   "outputs": [],
   "source": [
    "df_w = df_main[df_main['ingredient_type'] == 'ing_w']"
   ]
  },
  {
   "cell_type": "code",
   "execution_count": 0,
   "metadata": {
    "colab": {},
    "colab_type": "code",
    "id": "hge6eopu6aSG"
   },
   "outputs": [],
   "source": [
    "monthly_yield = df_w.groupby('month').sum().round()"
   ]
  },
  {
   "cell_type": "code",
   "execution_count": 0,
   "metadata": {
    "colab": {},
    "colab_type": "code",
    "id": "TmMx9Gy26kEF"
   },
   "outputs": [],
   "source": [
    "monthly_yield.reset_index(inplace = True)"
   ]
  },
  {
   "cell_type": "code",
   "execution_count": 94,
   "metadata": {
    "colab": {
     "base_uri": "https://localhost:8080/",
     "height": 421
    },
    "colab_type": "code",
    "id": "1KLTLKmyDcjH",
    "outputId": "b8e79ebe-6a59-447e-d818-c9a4c7724c17"
   },
   "outputs": [
    {
     "data": {
      "text/html": [
       "<div>\n",
       "<style scoped>\n",
       "    .dataframe tbody tr th:only-of-type {\n",
       "        vertical-align: middle;\n",
       "    }\n",
       "\n",
       "    .dataframe tbody tr th {\n",
       "        vertical-align: top;\n",
       "    }\n",
       "\n",
       "    .dataframe thead th {\n",
       "        text-align: right;\n",
       "    }\n",
       "</style>\n",
       "<table border=\"1\" class=\"dataframe\">\n",
       "  <thead>\n",
       "    <tr style=\"text-align: right;\">\n",
       "      <th></th>\n",
       "      <th>month</th>\n",
       "      <th>yield</th>\n",
       "    </tr>\n",
       "  </thead>\n",
       "  <tbody>\n",
       "    <tr>\n",
       "      <th>0</th>\n",
       "      <td>1</td>\n",
       "      <td>159010494.0</td>\n",
       "    </tr>\n",
       "    <tr>\n",
       "      <th>1</th>\n",
       "      <td>2</td>\n",
       "      <td>140562148.0</td>\n",
       "    </tr>\n",
       "    <tr>\n",
       "      <th>2</th>\n",
       "      <td>3</td>\n",
       "      <td>163784351.0</td>\n",
       "    </tr>\n",
       "    <tr>\n",
       "      <th>3</th>\n",
       "      <td>4</td>\n",
       "      <td>172760783.0</td>\n",
       "    </tr>\n",
       "    <tr>\n",
       "      <th>4</th>\n",
       "      <td>5</td>\n",
       "      <td>226995888.0</td>\n",
       "    </tr>\n",
       "    <tr>\n",
       "      <th>5</th>\n",
       "      <td>6</td>\n",
       "      <td>232457891.0</td>\n",
       "    </tr>\n",
       "    <tr>\n",
       "      <th>6</th>\n",
       "      <td>7</td>\n",
       "      <td>223304383.0</td>\n",
       "    </tr>\n",
       "    <tr>\n",
       "      <th>7</th>\n",
       "      <td>8</td>\n",
       "      <td>243688230.0</td>\n",
       "    </tr>\n",
       "    <tr>\n",
       "      <th>8</th>\n",
       "      <td>9</td>\n",
       "      <td>174737359.0</td>\n",
       "    </tr>\n",
       "    <tr>\n",
       "      <th>9</th>\n",
       "      <td>10</td>\n",
       "      <td>174727334.0</td>\n",
       "    </tr>\n",
       "    <tr>\n",
       "      <th>10</th>\n",
       "      <td>11</td>\n",
       "      <td>170157935.0</td>\n",
       "    </tr>\n",
       "    <tr>\n",
       "      <th>11</th>\n",
       "      <td>12</td>\n",
       "      <td>155196946.0</td>\n",
       "    </tr>\n",
       "  </tbody>\n",
       "</table>\n",
       "</div>"
      ],
      "text/plain": [
       "    month        yield\n",
       "0       1  159010494.0\n",
       "1       2  140562148.0\n",
       "2       3  163784351.0\n",
       "3       4  172760783.0\n",
       "4       5  226995888.0\n",
       "5       6  232457891.0\n",
       "6       7  223304383.0\n",
       "7       8  243688230.0\n",
       "8       9  174737359.0\n",
       "9      10  174727334.0\n",
       "10     11  170157935.0\n",
       "11     12  155196946.0"
      ]
     },
     "execution_count": 94,
     "metadata": {
      "tags": []
     },
     "output_type": "execute_result"
    }
   ],
   "source": [
    "monthly_yield"
   ]
  },
  {
   "cell_type": "code",
   "execution_count": 109,
   "metadata": {
    "colab": {
     "base_uri": "https://localhost:8080/",
     "height": 421
    },
    "colab_type": "code",
    "id": "4MPl7B-XFxOK",
    "outputId": "b0feef3c-8fb6-4cb8-a32e-c47f47063fe3"
   },
   "outputs": [
    {
     "data": {
      "text/html": [
       "<div>\n",
       "<style scoped>\n",
       "    .dataframe tbody tr th:only-of-type {\n",
       "        vertical-align: middle;\n",
       "    }\n",
       "\n",
       "    .dataframe tbody tr th {\n",
       "        vertical-align: top;\n",
       "    }\n",
       "\n",
       "    .dataframe thead th {\n",
       "        text-align: right;\n",
       "    }\n",
       "</style>\n",
       "<table border=\"1\" class=\"dataframe\">\n",
       "  <thead>\n",
       "    <tr style=\"text-align: right;\">\n",
       "      <th></th>\n",
       "      <th>month</th>\n",
       "      <th>demand</th>\n",
       "    </tr>\n",
       "  </thead>\n",
       "  <tbody>\n",
       "    <tr>\n",
       "      <th>0</th>\n",
       "      <td>1</td>\n",
       "      <td>90430481</td>\n",
       "    </tr>\n",
       "    <tr>\n",
       "      <th>1</th>\n",
       "      <td>2</td>\n",
       "      <td>75344853</td>\n",
       "    </tr>\n",
       "    <tr>\n",
       "      <th>2</th>\n",
       "      <td>3</td>\n",
       "      <td>91917783</td>\n",
       "    </tr>\n",
       "    <tr>\n",
       "      <th>3</th>\n",
       "      <td>4</td>\n",
       "      <td>82591524</td>\n",
       "    </tr>\n",
       "    <tr>\n",
       "      <th>4</th>\n",
       "      <td>5</td>\n",
       "      <td>87419669</td>\n",
       "    </tr>\n",
       "    <tr>\n",
       "      <th>5</th>\n",
       "      <td>6</td>\n",
       "      <td>297500000</td>\n",
       "    </tr>\n",
       "    <tr>\n",
       "      <th>6</th>\n",
       "      <td>7</td>\n",
       "      <td>198900000</td>\n",
       "    </tr>\n",
       "    <tr>\n",
       "      <th>7</th>\n",
       "      <td>8</td>\n",
       "      <td>97367031</td>\n",
       "    </tr>\n",
       "    <tr>\n",
       "      <th>8</th>\n",
       "      <td>9</td>\n",
       "      <td>91049286</td>\n",
       "    </tr>\n",
       "    <tr>\n",
       "      <th>9</th>\n",
       "      <td>10</td>\n",
       "      <td>91755300</td>\n",
       "    </tr>\n",
       "    <tr>\n",
       "      <th>10</th>\n",
       "      <td>11</td>\n",
       "      <td>86533266</td>\n",
       "    </tr>\n",
       "    <tr>\n",
       "      <th>11</th>\n",
       "      <td>12</td>\n",
       "      <td>88514610</td>\n",
       "    </tr>\n",
       "  </tbody>\n",
       "</table>\n",
       "</div>"
      ],
      "text/plain": [
       "    month     demand\n",
       "0       1   90430481\n",
       "1       2   75344853\n",
       "2       3   91917783\n",
       "3       4   82591524\n",
       "4       5   87419669\n",
       "5       6  297500000\n",
       "6       7  198900000\n",
       "7       8   97367031\n",
       "8       9   91049286\n",
       "9      10   91755300\n",
       "10     11   86533266\n",
       "11     12   88514610"
      ]
     },
     "execution_count": 109,
     "metadata": {
      "tags": []
     },
     "output_type": "execute_result"
    }
   ],
   "source": [
    "demand = pd.DataFrame({'month':[1,2,3,4,5,6,7,8,9,10,11,12],\n",
    "                       'demand':[90430481, 75344853, 91917783, 82591524, 87419669, 297500000, 198900000, 97367031, 91049286, 91755300, 86533266, 88514610 ]})\n",
    "demand"
   ]
  },
  {
   "cell_type": "code",
   "execution_count": 110,
   "metadata": {
    "colab": {
     "base_uri": "https://localhost:8080/",
     "height": 421
    },
    "colab_type": "code",
    "id": "oMO5ikiKGPMF",
    "outputId": "0a929933-acfc-419f-8786-877fc5dffe68"
   },
   "outputs": [
    {
     "data": {
      "text/html": [
       "<div>\n",
       "<style scoped>\n",
       "    .dataframe tbody tr th:only-of-type {\n",
       "        vertical-align: middle;\n",
       "    }\n",
       "\n",
       "    .dataframe tbody tr th {\n",
       "        vertical-align: top;\n",
       "    }\n",
       "\n",
       "    .dataframe thead th {\n",
       "        text-align: right;\n",
       "    }\n",
       "</style>\n",
       "<table border=\"1\" class=\"dataframe\">\n",
       "  <thead>\n",
       "    <tr style=\"text-align: right;\">\n",
       "      <th></th>\n",
       "      <th>month</th>\n",
       "      <th>yield</th>\n",
       "      <th>demand</th>\n",
       "    </tr>\n",
       "  </thead>\n",
       "  <tbody>\n",
       "    <tr>\n",
       "      <th>0</th>\n",
       "      <td>1</td>\n",
       "      <td>159010494.0</td>\n",
       "      <td>90430481</td>\n",
       "    </tr>\n",
       "    <tr>\n",
       "      <th>1</th>\n",
       "      <td>2</td>\n",
       "      <td>140562148.0</td>\n",
       "      <td>75344853</td>\n",
       "    </tr>\n",
       "    <tr>\n",
       "      <th>2</th>\n",
       "      <td>3</td>\n",
       "      <td>163784351.0</td>\n",
       "      <td>91917783</td>\n",
       "    </tr>\n",
       "    <tr>\n",
       "      <th>3</th>\n",
       "      <td>4</td>\n",
       "      <td>172760783.0</td>\n",
       "      <td>82591524</td>\n",
       "    </tr>\n",
       "    <tr>\n",
       "      <th>4</th>\n",
       "      <td>5</td>\n",
       "      <td>226995888.0</td>\n",
       "      <td>87419669</td>\n",
       "    </tr>\n",
       "    <tr>\n",
       "      <th>5</th>\n",
       "      <td>6</td>\n",
       "      <td>232457891.0</td>\n",
       "      <td>297500000</td>\n",
       "    </tr>\n",
       "    <tr>\n",
       "      <th>6</th>\n",
       "      <td>7</td>\n",
       "      <td>223304383.0</td>\n",
       "      <td>198900000</td>\n",
       "    </tr>\n",
       "    <tr>\n",
       "      <th>7</th>\n",
       "      <td>8</td>\n",
       "      <td>243688230.0</td>\n",
       "      <td>97367031</td>\n",
       "    </tr>\n",
       "    <tr>\n",
       "      <th>8</th>\n",
       "      <td>9</td>\n",
       "      <td>174737359.0</td>\n",
       "      <td>91049286</td>\n",
       "    </tr>\n",
       "    <tr>\n",
       "      <th>9</th>\n",
       "      <td>10</td>\n",
       "      <td>174727334.0</td>\n",
       "      <td>91755300</td>\n",
       "    </tr>\n",
       "    <tr>\n",
       "      <th>10</th>\n",
       "      <td>11</td>\n",
       "      <td>170157935.0</td>\n",
       "      <td>86533266</td>\n",
       "    </tr>\n",
       "    <tr>\n",
       "      <th>11</th>\n",
       "      <td>12</td>\n",
       "      <td>155196946.0</td>\n",
       "      <td>88514610</td>\n",
       "    </tr>\n",
       "  </tbody>\n",
       "</table>\n",
       "</div>"
      ],
      "text/plain": [
       "    month        yield     demand\n",
       "0       1  159010494.0   90430481\n",
       "1       2  140562148.0   75344853\n",
       "2       3  163784351.0   91917783\n",
       "3       4  172760783.0   82591524\n",
       "4       5  226995888.0   87419669\n",
       "5       6  232457891.0  297500000\n",
       "6       7  223304383.0  198900000\n",
       "7       8  243688230.0   97367031\n",
       "8       9  174737359.0   91049286\n",
       "9      10  174727334.0   91755300\n",
       "10     11  170157935.0   86533266\n",
       "11     12  155196946.0   88514610"
      ]
     },
     "execution_count": 110,
     "metadata": {
      "tags": []
     },
     "output_type": "execute_result"
    }
   ],
   "source": [
    "yield_demand = pd.merge(monthly_yield, demand, on = ['month'])\n",
    "yield_demand"
   ]
  },
  {
   "cell_type": "code",
   "execution_count": 138,
   "metadata": {
    "colab": {
     "base_uri": "https://localhost:8080/",
     "height": 421
    },
    "colab_type": "code",
    "id": "HrUu3icONBsK",
    "outputId": "92f5ffa6-7179-4612-ad45-378e4a103306"
   },
   "outputs": [
    {
     "data": {
      "text/html": [
       "<div>\n",
       "<style scoped>\n",
       "    .dataframe tbody tr th:only-of-type {\n",
       "        vertical-align: middle;\n",
       "    }\n",
       "\n",
       "    .dataframe tbody tr th {\n",
       "        vertical-align: top;\n",
       "    }\n",
       "\n",
       "    .dataframe thead th {\n",
       "        text-align: right;\n",
       "    }\n",
       "</style>\n",
       "<table border=\"1\" class=\"dataframe\">\n",
       "  <thead>\n",
       "    <tr style=\"text-align: right;\">\n",
       "      <th></th>\n",
       "      <th>month</th>\n",
       "      <th>yield</th>\n",
       "      <th>demand</th>\n",
       "      <th>difference</th>\n",
       "    </tr>\n",
       "  </thead>\n",
       "  <tbody>\n",
       "    <tr>\n",
       "      <th>0</th>\n",
       "      <td>1</td>\n",
       "      <td>159010494.0</td>\n",
       "      <td>90430481</td>\n",
       "      <td>68580013.0</td>\n",
       "    </tr>\n",
       "    <tr>\n",
       "      <th>1</th>\n",
       "      <td>2</td>\n",
       "      <td>140562148.0</td>\n",
       "      <td>75344853</td>\n",
       "      <td>65217295.0</td>\n",
       "    </tr>\n",
       "    <tr>\n",
       "      <th>2</th>\n",
       "      <td>3</td>\n",
       "      <td>163784351.0</td>\n",
       "      <td>91917783</td>\n",
       "      <td>71866568.0</td>\n",
       "    </tr>\n",
       "    <tr>\n",
       "      <th>3</th>\n",
       "      <td>4</td>\n",
       "      <td>172760783.0</td>\n",
       "      <td>82591524</td>\n",
       "      <td>90169259.0</td>\n",
       "    </tr>\n",
       "    <tr>\n",
       "      <th>4</th>\n",
       "      <td>5</td>\n",
       "      <td>226995888.0</td>\n",
       "      <td>87419669</td>\n",
       "      <td>139576219.0</td>\n",
       "    </tr>\n",
       "    <tr>\n",
       "      <th>5</th>\n",
       "      <td>6</td>\n",
       "      <td>232457891.0</td>\n",
       "      <td>297500000</td>\n",
       "      <td>-65042109.0</td>\n",
       "    </tr>\n",
       "    <tr>\n",
       "      <th>6</th>\n",
       "      <td>7</td>\n",
       "      <td>223304383.0</td>\n",
       "      <td>198900000</td>\n",
       "      <td>24404383.0</td>\n",
       "    </tr>\n",
       "    <tr>\n",
       "      <th>7</th>\n",
       "      <td>8</td>\n",
       "      <td>243688230.0</td>\n",
       "      <td>97367031</td>\n",
       "      <td>146321199.0</td>\n",
       "    </tr>\n",
       "    <tr>\n",
       "      <th>8</th>\n",
       "      <td>9</td>\n",
       "      <td>174737359.0</td>\n",
       "      <td>91049286</td>\n",
       "      <td>83688073.0</td>\n",
       "    </tr>\n",
       "    <tr>\n",
       "      <th>9</th>\n",
       "      <td>10</td>\n",
       "      <td>174727334.0</td>\n",
       "      <td>91755300</td>\n",
       "      <td>82972034.0</td>\n",
       "    </tr>\n",
       "    <tr>\n",
       "      <th>10</th>\n",
       "      <td>11</td>\n",
       "      <td>170157935.0</td>\n",
       "      <td>86533266</td>\n",
       "      <td>83624669.0</td>\n",
       "    </tr>\n",
       "    <tr>\n",
       "      <th>11</th>\n",
       "      <td>12</td>\n",
       "      <td>155196946.0</td>\n",
       "      <td>88514610</td>\n",
       "      <td>66682336.0</td>\n",
       "    </tr>\n",
       "  </tbody>\n",
       "</table>\n",
       "</div>"
      ],
      "text/plain": [
       "    month        yield     demand   difference\n",
       "0       1  159010494.0   90430481   68580013.0\n",
       "1       2  140562148.0   75344853   65217295.0\n",
       "2       3  163784351.0   91917783   71866568.0\n",
       "3       4  172760783.0   82591524   90169259.0\n",
       "4       5  226995888.0   87419669  139576219.0\n",
       "5       6  232457891.0  297500000  -65042109.0\n",
       "6       7  223304383.0  198900000   24404383.0\n",
       "7       8  243688230.0   97367031  146321199.0\n",
       "8       9  174737359.0   91049286   83688073.0\n",
       "9      10  174727334.0   91755300   82972034.0\n",
       "10     11  170157935.0   86533266   83624669.0\n",
       "11     12  155196946.0   88514610   66682336.0"
      ]
     },
     "execution_count": 138,
     "metadata": {
      "tags": []
     },
     "output_type": "execute_result"
    }
   ],
   "source": [
    "yield_demand['difference'] = yield_demand['yield'] - yield_demand['demand']\n",
    "yield_demand"
   ]
  },
  {
   "cell_type": "code",
   "execution_count": null,
   "metadata": {},
   "outputs": [],
   "source": [
    "monthly_yield.to_csv('/content/drive/My Drive/Colab/monthly_yield(ing_w).csv')"
   ]
  },
  {
   "cell_type": "markdown",
   "metadata": {
    "colab_type": "text",
    "id": "PWuzMTA_-lwi"
   },
   "source": [
    "___"
   ]
  },
  {
   "cell_type": "markdown",
   "metadata": {},
   "source": [
    "## <center>Results</center>"
   ]
  },
  {
   "cell_type": "markdown",
   "metadata": {},
   "source": [
    "#### Visualizing the demand-suppy trend"
   ]
  },
  {
   "cell_type": "code",
   "execution_count": 141,
   "metadata": {
    "colab": {
     "base_uri": "https://localhost:8080/",
     "height": 421
    },
    "colab_type": "code",
    "id": "x9RnuTYAC04B",
    "outputId": "ad81fbc9-8149-4dd5-f2e3-c34afa40391f"
   },
   "outputs": [
    {
     "data": {
      "text/plain": [
       "<matplotlib.legend.Legend at 0x7f53b3bab438>"
      ]
     },
     "execution_count": 141,
     "metadata": {
      "tags": []
     },
     "output_type": "execute_result"
    },
    {
     "data": {
      "image/png": "[encoded data removed]",
      "text/plain": [
       "<Figure size 720x432 with 1 Axes>"
      ]
     },
     "metadata": {
      "tags": []
     },
     "output_type": "display_data"
    }
   ],
   "source": [
    "plt.figure(figsize = (10,6))\n",
    "plt.plot('month', 'yield', data=yield_demand, marker='o', markerfacecolor='blue', markersize=12, color='skyblue', linewidth=4)\n",
    "plt.plot('month', 'demand', data=yield_demand, marker='o', markerfacecolor='#74B62E', markersize=12, color='#028910', linewidth=4)\n",
    "plt.plot('month', 'difference', data=yield_demand, marker='x', color='red',linewidth=2)\n",
    "\n",
    "plt.title(\"Yearly Yield and Demand\")\n",
    "plt.xlabel('Month')\n",
    "plt.ylabel('Supplies')\n",
    "plt.grid()\n",
    "plt.legend()"
   ]
  },
  {
   "cell_type": "markdown",
   "metadata": {},
   "source": [
    "Ref: https://python-graph-gallery.com/122-multiple-lines-chart/"
   ]
  },
  {
   "cell_type": "markdown",
   "metadata": {
    "colab_type": "text",
    "id": "Q4GIi4ll-ou8"
   },
   "source": [
    "#### Observations :\n",
    " - From the _June_ (month 6) to _August_ (month 8), the demand for `ing_w` increases. The most probable reason for this is that the summer holidays in northen hemisphere begins from **last week of June** or **first week of July**. \n",
    " - Since it is the holiday season, the tourism industry also takes off which results in increased suppy of the ingredient `ing_w`.\n",
    " - All year long, the demand-supply difference line is close to the demand line, which means it would be difficult to meet the demand requirements in June.\n"
   ]
  },
  {
   "cell_type": "markdown",
   "metadata": {
    "colab_type": "text",
    "id": "owuzgvQpBdRe"
   },
   "source": [
    "Ref: https://www.goodschoolsguide.co.uk/international/australia/northern-hemisphere-v-southern-hemisphere"
   ]
  },
  {
   "cell_type": "markdown",
   "metadata": {
    "colab_type": "text",
    "id": "96MsCLTjLjOa"
   },
   "source": [
    "As we can see that in June, we fall short of **-65042109.0** amount of supplies. The demand-suuply difference line being close to the demand means there are very less possibilities of storing the inventory for longer period of time. \n",
    "\n",
    "\n",
    "---\n",
    "\n",
    "\n",
    "\n",
    "---\n",
    "\n"
   ]
  },
  {
   "cell_type": "markdown",
   "metadata": {
    "colab_type": "text",
    "id": "61efzDpUPWQo"
   },
   "source": [
    "## <center>Conclusion</center>\n",
    "\n",
    ">  It is very necessary for us to meet the demand and supply in the month of June 2017, as we fall short of **-65042109.0** amount of supplies short. \n",
    "The possible solution(s) to this problem are:\n",
    "  1. Asking the farming companies to increase the yield of ingrident `ing_w`.\n",
    "  2. Importing ingredient `ing_w` from other locations/provinces/countries.\n",
    " \n",
    "> This demand-supply shrotage may have many possible reasons, like inappropriate weather conditions, insufficient rains, increased population, etc. However as a business, it is necessary to fulfil the demand requirements to be able to sustain in the marketplace. \n",
    "\n",
    "___"
   ]
  },
  {
   "cell_type": "markdown",
   "metadata": {},
   "source": [
    "## <center>Quality of data</center>\n",
    "\n",
    "- Inferring that the crops are seasonal, it is challeging to predict the trend and randomness due to lack of data. The data only consisted of year **2016**. Had we had more past data, we would have been easy for us to explore trend(s). \n",
    "- In the original dataframes(`farm_id.csv` and `train_weather.csv`), there were a lot of **NULL** values. These values/features were either droppped or be imputed using `fillna()`. \n",
    "- Overall, the data could be understood and a lot of inferences could be made out of them."
   ]
  },
  {
   "cell_type": "markdown",
   "metadata": {},
   "source": [
    "___\n",
    "## <center>References</center>\n",
    " - https://seaborn.pydata.org/examples/many_pairwise_correlations.html\n",
    " - https://en.wikipedia.org/wiki/Earth_rainfall_climatology\n",
    " - https://www.geeksforgeeks.org/python-pandas-dataframe-subtract/\n",
    " - https://python-graph-gallery.com/122-multiple-lines-chart/\n",
    " - https://www.goodschoolsguide.co.uk/international/australia/northern-hemisphere-v-southern-hemisphere"
   ]
  },
  {
   "cell_type": "markdown",
   "metadata": {},
   "source": [
    "#### <center>END OF REPORT</center>"
   ]
  }
 ],
 "metadata": {
  "accelerator": "GPU",
  "colab": {
   "collapsed_sections": [],
   "machine_shape": "hm",
   "name": "FINAL SUBMISSION FILE",
   "provenance": []
  },
  "kernelspec": {
   "display_name": "Python 3",
   "language": "python",
   "name": "python3"
  },
  "language_info": {
   "codemirror_mode": {
    "name": "ipython",
    "version": 3
   },
   "file_extension": ".py",
   "mimetype": "text/x-python",
   "name": "python",
   "nbconvert_exporter": "python",
   "pygments_lexer": "ipython3",
   "version": "3.8.3"
  }
 },
 "nbformat": 4,
 "nbformat_minor": 1
}
